{
 "cells": [
  {
   "cell_type": "code",
   "execution_count": 35,
   "id": "40734e75",
   "metadata": {},
   "outputs": [],
   "source": [
    "import selenium\n",
    "from selenium import webdriver\n",
    "from selenium.webdriver.common.by import By\n",
    "import PIL\n",
    "from PIL import Image\n",
    "import os\n",
    "import io\n",
    "import requests\n",
    "import time\n",
    "import hashlib"
   ]
  },
  {
   "cell_type": "code",
   "execution_count": 36,
   "id": "72b3e049",
   "metadata": {},
   "outputs": [
    {
     "data": {
      "text/plain": [
       "['Dockerfile',\n",
       " 'chromedriver',\n",
       " 'panda_getter.py',\n",
       " 'images',\n",
       " 'chromedriver_linux64 (1)',\n",
       " 'Untitled.ipynb',\n",
       " 'downloads',\n",
       " 'requirements.txt',\n",
       " 'plan',\n",
       " 'cheats',\n",
       " 'chromedriver_linux64 (1).zip',\n",
       " '.ipynb_checkpoints',\n",
       " 'not_pandas']"
      ]
     },
     "execution_count": 36,
     "metadata": {},
     "output_type": "execute_result"
    }
   ],
   "source": [
    "os.getcwd()\n",
    "os.listdir('/home/javier.luna/Desktop/proyecto_pandas')"
   ]
  },
  {
   "cell_type": "code",
   "execution_count": 37,
   "id": "11d697cf",
   "metadata": {},
   "outputs": [],
   "source": [
    "path = '/home/javier.luna/Desktop/proyecto_pandas/chromedriver'"
   ]
  },
  {
   "cell_type": "code",
   "execution_count": 38,
   "id": "e4c21d56",
   "metadata": {},
   "outputs": [
    {
     "name": "stderr",
     "output_type": "stream",
     "text": [
      "/tmp/ipykernel_3533123/1174585397.py:5: DeprecationWarning: executable_path has been deprecated, please pass in a Service object\n",
      "  wd = webdriver.Chrome(executable_path=DRIVER_PATH)\n"
     ]
    }
   ],
   "source": [
    "# This is the path I use\n",
    "# DRIVER_PATH = '.../Desktop/Scraping/chromedriver 2'\n",
    "# Put the path for your ChromeDriver here\n",
    "DRIVER_PATH = path\n",
    "wd = webdriver.Chrome(executable_path=DRIVER_PATH)"
   ]
  },
  {
   "cell_type": "code",
   "execution_count": 39,
   "id": "a2a79942",
   "metadata": {},
   "outputs": [],
   "source": [
    "wd.get('https://google.com')"
   ]
  },
  {
   "cell_type": "code",
   "execution_count": 40,
   "id": "6232d7b9",
   "metadata": {},
   "outputs": [],
   "source": [
    "search_box = wd.find_element(By.CSS_SELECTOR,'input.gLFyf')\n",
    "search_box.send_keys('Dogs')"
   ]
  },
  {
   "cell_type": "code",
   "execution_count": 41,
   "id": "26671e6e",
   "metadata": {},
   "outputs": [],
   "source": [
    "\n",
    "def fetch_image_urls(query:str, max_links_to_fetch:int, wd:webdriver, sleep_between_interactions:int=1):\n",
    "    def scroll_to_end(wd):\n",
    "        wd.execute_script(\"window.scrollTo(0, document.body.scrollHeight);\")\n",
    "        time.sleep(sleep_between_interactions)    \n",
    "    \n",
    "    # build the google query\n",
    "    search_url = \"https://www.google.com/search?safe=off&site=&tbm=isch&source=hp&q={q}&oq={q}&gs_l=img\"\n",
    "\n",
    "    # load the page\n",
    "    wd.get(search_url.format(q=query))\n",
    "\n",
    "    image_urls = set()\n",
    "    image_count = 0\n",
    "    results_start = 0\n",
    "    while image_count < max_links_to_fetch:\n",
    "        scroll_to_end(wd)\n",
    "\n",
    "        # get all image thumbnail results\n",
    "        thumbnail_results = wd.find_elements_by_css_selector(\"img.Q4LuWd\")\n",
    "        number_results = len(thumbnail_results)\n",
    "        \n",
    "        print(f\"Found: {number_results} search results. Extracting links from {results_start}:{number_results}\")\n",
    "        \n",
    "        for img in thumbnail_results[results_start:number_results]:\n",
    "            # try to click every thumbnail such that we can get the real image behind it\n",
    "            try:\n",
    "                img.click()\n",
    "                time.sleep(sleep_between_interactions)\n",
    "            except Exception:\n",
    "                continue\n",
    "\n",
    "            # extract image urls    \n",
    "            actual_images = wd.find_elements_by_css_selector('img.n3VNCb')\n",
    "            for actual_image in actual_images:\n",
    "                if actual_image.get_attribute('src') and 'http' in actual_image.get_attribute('src'):\n",
    "                    image_urls.add(actual_image.get_attribute('src'))\n",
    "\n",
    "            image_count = len(image_urls)\n",
    "\n",
    "            if len(image_urls) >= max_links_to_fetch:\n",
    "                print(f\"Found: {len(image_urls)} image links, done!\")\n",
    "                break\n",
    "        else:\n",
    "            print(\"Found:\", len(image_urls), \"image links, looking for more ...\")\n",
    "            time.sleep(30)\n",
    "            return\n",
    "            load_more_button = wd.find_element_by_css_selector(\".mye4qd\")\n",
    "            if load_more_button:\n",
    "                wd.execute_script(\"document.querySelector('.mye4qd').click();\")\n",
    "\n",
    "        # move the result startpoint further down\n",
    "        results_start = len(thumbnail_results)\n",
    "\n",
    "    return image_urls\n"
   ]
  },
  {
   "cell_type": "code",
   "execution_count": 45,
   "id": "870a9f82",
   "metadata": {},
   "outputs": [],
   "source": [
    "\n",
    "def persist_image(folder_path:str,url:str):\n",
    "    try:\n",
    "        image_content = requests.get(url).content\n",
    "\n",
    "    except Exception as e:\n",
    "        print(f\"ERROR - Could not download {url} - {e}\")\n",
    "\n",
    "    try:\n",
    "        image_file = io.BytesIO(image_content)\n",
    "        image = Image.open(image_file).convert('RGB')\n",
    "        h=hashlib.sha1(image_content)\n",
    "        file_path = os.path.join(folder_path,h.hexdigest()[:10] + '.jpg')\n",
    "        with open(file_path, 'wb') as f:\n",
    "            image.save(f, \"JPEG\", quality=85)\n",
    "        print(f\"SUCCESS - saved {url} - as {file_path}\")\n",
    "    except Exception as e:\n",
    "        print(f\"ERROR - Could not save {url} - {e}\")"
   ]
  },
  {
   "cell_type": "code",
   "execution_count": 48,
   "id": "c23e94ed",
   "metadata": {},
   "outputs": [],
   "source": [
    "def search_and_download(search_term:str,driver_path:str,target_path='./images',number_images=5):\n",
    "    target_folder = os.path.join(target_path,'_'.join(search_term.lower().split(' ')))\n",
    "\n",
    "    if not os.path.exists(target_folder):\n",
    "        os.makedirs(target_folder)\n",
    "\n",
    "    with webdriver.Chrome(executable_path=driver_path) as wd:\n",
    "        res = fetch_image_urls(search_term, number_images, wd=wd, sleep_between_interactions=0.5)\n",
    "        \n",
    "    for elem in res:\n",
    "        persist_image(target_folder,elem)"
   ]
  },
  {
   "cell_type": "code",
   "execution_count": 53,
   "id": "d520e7bd",
   "metadata": {},
   "outputs": [
    {
     "name": "stderr",
     "output_type": "stream",
     "text": [
      "/tmp/ipykernel_3533123/666933182.py:7: DeprecationWarning: executable_path has been deprecated, please pass in a Service object\n",
      "  with webdriver.Chrome(executable_path=driver_path) as wd:\n",
      "/tmp/ipykernel_3533123/322778573.py:19: DeprecationWarning: find_elements_by_* commands are deprecated. Please use find_elements() instead\n",
      "  thumbnail_results = wd.find_elements_by_css_selector(\"img.Q4LuWd\")\n"
     ]
    },
    {
     "name": "stdout",
     "output_type": "stream",
     "text": [
      "Found: 100 search results. Extracting links from 0:100\n"
     ]
    },
    {
     "name": "stderr",
     "output_type": "stream",
     "text": [
      "/tmp/ipykernel_3533123/322778573.py:33: DeprecationWarning: find_elements_by_* commands are deprecated. Please use find_elements() instead\n",
      "  actual_images = wd.find_elements_by_css_selector('img.n3VNCb')\n"
     ]
    },
    {
     "name": "stdout",
     "output_type": "stream",
     "text": [
      "Found: 100 image links, done!\n",
      "SUCCESS - saved https://pbs.twimg.com/media/FADnBRcVQAE_ngz?format=jpg&name=4096x4096 - as ./images/red_panda/87d02cf386.jpg\n",
      "SUCCESS - saved https://www.thoughtco.com/thmb/oEYSPkt1Y-Ly2I6D5oTSy2xA0xE=/2037x1472/filters:no_upscale():max_bytes(150000):strip_icc()/red-panda-149481947-5b577cbbc9e77c002560f581.jpg - as ./images/red_panda/7fe2363d17.jpg\n",
      "SUCCESS - saved https://encrypted-tbn0.gstatic.com/images?q=tbn:ANd9GcQSPw0E5L4KITH0TcPqILT-K50ewX4oUMWFUw&usqp=CAU - as ./images/red_panda/1b877ceba5.jpg\n",
      "SUCCESS - saved https://encrypted-tbn0.gstatic.com/images?q=tbn:ANd9GcSX7EdsVBaz_ubtEH472coTNR63gdCwimbjcg&usqp=CAU - as ./images/red_panda/579b2b57b6.jpg\n",
      "SUCCESS - saved https://encrypted-tbn0.gstatic.com/images?q=tbn:ANd9GcTOnXZvuasTu0lMoTx4cVbZPMD_g0ssgd2d5A&usqp=CAU - as ./images/red_panda/ab4896d978.jpg\n",
      "SUCCESS - saved https://encrypted-tbn0.gstatic.com/images?q=tbn:ANd9GcQk2gShFzuy78YyEkIS8ivdZSfWnRsWTJMDyA&usqp=CAU - as ./images/red_panda/31b6465ccc.jpg\n",
      "SUCCESS - saved https://encrypted-tbn0.gstatic.com/images?q=tbn:ANd9GcSTIgrVXbYu4qs4KbqIpn6NKKoqY2ryIbepMw&usqp=CAU - as ./images/red_panda/20794db5e3.jpg\n",
      "SUCCESS - saved https://encrypted-tbn0.gstatic.com/images?q=tbn:ANd9GcT0N1WP4DALyJm3YwPihqqOih4-dYcoGfZ5bQ&usqp=CAU - as ./images/red_panda/9ee79bb9c2.jpg\n",
      "SUCCESS - saved https://www.sixsenses.com/media/6598/qing-cheng-mountain-china-010_panda-ark-a.jpg?anchor=center&mode=crop&rnd=132266539900000000 - as ./images/red_panda/2344b77b5d.jpg\n",
      "SUCCESS - saved https://lh3.googleusercontent.com/MM7E6Is6uuZe8zUKex_aXRV2k1aO9hn_KqdTZSB9yBoWeFOM0WD7RaKWoQAudiaQDw=s1200 - as ./images/red_panda/ebb2005235.jpg\n",
      "SUCCESS - saved https://ichef.bbci.co.uk/news/976/cpsprodpb/8ACC/production/_121923553_kush6.jpg - as ./images/red_panda/917ee03b95.jpg\n",
      "SUCCESS - saved https://encrypted-tbn0.gstatic.com/images?q=tbn:ANd9GcSrAYmHeIO-66Qm4f0L4PHzZNmyx5xnltThug&usqp=CAU - as ./images/red_panda/dd40bb71ef.jpg\n",
      "SUCCESS - saved https://encrypted-tbn0.gstatic.com/images?q=tbn:ANd9GcSuH2uz6GT7SR9FeMquztbV9wjW27g7YqFq7w&usqp=CAU - as ./images/red_panda/9be6f613bf.jpg\n",
      "SUCCESS - saved https://i.natgeofe.com/k/0044cc59-97e5-42bd-bbef-0506871eed22/red-panda-tree_3x4.jpg - as ./images/red_panda/e6ab6f0511.jpg\n",
      "SUCCESS - saved https://encrypted-tbn0.gstatic.com/images?q=tbn:ANd9GcTe_uzcb63ZkSewrBRou_EiYbxbxZZIvECFVQ&usqp=CAU - as ./images/red_panda/787ea2850b.jpg\n",
      "SUCCESS - saved https://encrypted-tbn0.gstatic.com/images?q=tbn:ANd9GcTjiwfcbJF7NU-70MVcLOSkihBHu2XDKai0nw&usqp=CAU - as ./images/red_panda/64dd2068b3.jpg\n",
      "SUCCESS - saved https://gifts.worldwildlife.org/gift-center/Images/large-species-photo/large-Red-Panda-photo.jpg - as ./images/red_panda/72cd6091e0.jpg\n",
      "SUCCESS - saved https://c.tenor.com/zYdnJeHy-ZoAAAAC/red-panda-truly.gif - as ./images/red_panda/31735e39ea.jpg\n",
      "SUCCESS - saved https://encrypted-tbn0.gstatic.com/images?q=tbn:ANd9GcTyCztQ4CtqwGN2yLUYDrnzuCQMr_MnFP0UjQ&usqp=CAU - as ./images/red_panda/c4fb0490f0.jpg\n",
      "SUCCESS - saved https://encrypted-tbn0.gstatic.com/images?q=tbn:ANd9GcTvXrm-TDgZdEXkkgixRwm_kaPVxt3fzq0K9w&usqp=CAU - as ./images/red_panda/c249edd949.jpg\n",
      "SUCCESS - saved https://encrypted-tbn0.gstatic.com/images?q=tbn:ANd9GcSOlOzkwT-LjkMESFOHMmjW9AAw3wACkUZewQ&usqp=CAU - as ./images/red_panda/59e84413b1.jpg\n",
      "SUCCESS - saved https://encrypted-tbn0.gstatic.com/images?q=tbn:ANd9GcQASax5_2xzycAb6hJIKYXboTayCeADf2WIlg&usqp=CAU - as ./images/red_panda/e5c1cc1ecd.jpg\n",
      "SUCCESS - saved https://encrypted-tbn0.gstatic.com/images?q=tbn:ANd9GcSV-YyvBMD1qloc1P_VdrRaR_DPyWspNaAMpQ&usqp=CAU - as ./images/red_panda/d0c9661882.jpg\n",
      "SUCCESS - saved https://www.gannett-cdn.com/presto/2021/12/29/NOBD/5a1e7551-a0f5-4815-a536-76a7a888d152-Muse_the_Red_Panda.jpg - as ./images/red_panda/9cb3ae54de.jpg\n",
      "SUCCESS - saved https://encrypted-tbn0.gstatic.com/images?q=tbn:ANd9GcRTNPeeP7jVQbxzHwJA0bWbMZBpIuvWTStJrg&usqp=CAU - as ./images/red_panda/f64f3a3337.jpg\n",
      "SUCCESS - saved https://encrypted-tbn0.gstatic.com/images?q=tbn:ANd9GcQqf0-xgHA-9TeaWuEz5v0mJ6yrgci8LndMLA&usqp=CAU - as ./images/red_panda/af9faa5dbb.jpg\n",
      "SUCCESS - saved https://media-cldnry.s-nbcnews.com/image/upload/t_nbcnews-fp-1200-630,f_auto,q_auto:best/newscms/2020_11/3262351/200309-red-panda-parker-scott-kayser-birmingham-zoo-2-se-209p.jpg - as ./images/red_panda/5f8d67d415.jpg\n",
      "SUCCESS - saved https://encrypted-tbn0.gstatic.com/images?q=tbn:ANd9GcSvzsuDUOrhHxkvEYhzJZ7G9P2Igzl9UmaSiQ&usqp=CAU - as ./images/red_panda/045e6f65b6.jpg\n",
      "SUCCESS - saved https://encrypted-tbn0.gstatic.com/images?q=tbn:ANd9GcQww1pFygk_gPaP5UMxyLgpuJqpRB9hDsISCg&usqp=CAU - as ./images/red_panda/fda07494ac.jpg\n",
      "SUCCESS - saved https://encrypted-tbn0.gstatic.com/images?q=tbn:ANd9GcTFVvKuus8yQ6fERq5H4QOWKA4wYafY6TegMA&usqp=CAU - as ./images/red_panda/716ae586a9.jpg\n",
      "SUCCESS - saved https://encrypted-tbn0.gstatic.com/images?q=tbn:ANd9GcTTVsZuKzGWnXj57hM5_PpNwtaLfi3SXpt2Qw&usqp=CAU - as ./images/red_panda/46d1c3e590.jpg\n",
      "SUCCESS - saved https://encrypted-tbn0.gstatic.com/images?q=tbn:ANd9GcTEquvzt9flogQEUkxCjffhwKR724ozLjHSWw&usqp=CAU - as ./images/red_panda/8b96a4424f.jpg\n",
      "SUCCESS - saved https://encrypted-tbn0.gstatic.com/images?q=tbn:ANd9GcQBCmLtpB--CZ6xfH3EnpgjCOKHUXYtyoCGMA&usqp=CAU - as ./images/red_panda/0d70fc11c0.jpg\n",
      "SUCCESS - saved https://encrypted-tbn0.gstatic.com/images?q=tbn:ANd9GcR0j_YzyWjpwDJBh6uaEu2LrdtOLxqQDnyDyg&usqp=CAU - as ./images/red_panda/6078a37d04.jpg\n",
      "SUCCESS - saved https://encrypted-tbn0.gstatic.com/images?q=tbn:ANd9GcTCMFN6RRiHVPao1mzTsLuohUzPCkCFavldnQ&usqp=CAU - as ./images/red_panda/e48bac5298.jpg\n",
      "SUCCESS - saved https://c.files.bbci.co.uk/159C/production/_121923550_kush-sarahteare-kermeen2.jpg - as ./images/red_panda/e919ef26ee.jpg\n",
      "SUCCESS - saved https://upload.wikimedia.org/wikipedia/commons/thumb/e/e6/Red_Panda_%2824986761703%29.jpg/1200px-Red_Panda_%2824986761703%29.jpg - as ./images/red_panda/317523b378.jpg\n",
      "SUCCESS - saved https://cdn.pixabay.com/photo/2018/09/05/11/13/zoo-3656009__480.jpg - as ./images/red_panda/45c89fb1a0.jpg\n",
      "SUCCESS - saved https://creativepark.canon/images/contents/CNT-0029202/CNT-0029202_detail-01_s@2x.jpg - as ./images/red_panda/aecb593c7e.jpg\n",
      "SUCCESS - saved https://encrypted-tbn0.gstatic.com/images?q=tbn:ANd9GcT8TLyEoHRzBRGTbao6Y-BqslLOtkUAjaMMVg&usqp=CAU - as ./images/red_panda/d97bda2b1e.jpg\n",
      "SUCCESS - saved https://encrypted-tbn0.gstatic.com/images?q=tbn:ANd9GcRukVATgZZI7yD7Ydd2bShYq8ffgAgBLNrbDQ&usqp=CAU - as ./images/red_panda/0e945c3e4c.jpg\n",
      "SUCCESS - saved https://c8.alamy.com/compes/ax27gt/red-panda-ailurus-fulgens-zoo-de-schoenbrunn-viena-austria-europa-ax27gt.jpg - as ./images/red_panda/f9a44dbd68.jpg\n",
      "SUCCESS - saved https://images.newscientist.com/wp-content/uploads/2020/02/26183019/f0at2n_web.jpg?crop=4:3,smart&width=1200&height=900&upscale=true - as ./images/red_panda/fbf7f284c5.jpg\n",
      "SUCCESS - saved https://media.hswstatic.com/eyJidWNrZXQiOiJjb250ZW50Lmhzd3N0YXRpYy5jb20iLCJrZXkiOiJnaWZcL3JlZC1wYW5kYS5qcGciLCJlZGl0cyI6eyJyZXNpemUiOnsid2lkdGgiOiIxMjAwIn19fQ== - as ./images/red_panda/7dc5e42201.jpg\n",
      "SUCCESS - saved https://www.traffic.org/site/assets/files/12667/red_panda_mathias_appel-1800.-767w.jpg - as ./images/red_panda/9fb8f57bde.jpg\n",
      "SUCCESS - saved https://encrypted-tbn0.gstatic.com/images?q=tbn:ANd9GcTdpMKNgflSSZFXo5Qy4gE34YKM8yDVCep8Eg&usqp=CAU - as ./images/red_panda/8fce6acd16.jpg\n",
      "SUCCESS - saved https://encrypted-tbn0.gstatic.com/images?q=tbn:ANd9GcQsyLcPw1jeicq9rd0IskG5zgZ0xHHNuBQxdA&usqp=CAU - as ./images/red_panda/4aad0c0909.jpg\n",
      "SUCCESS - saved https://www.gannett-cdn.com/media/USATODAY/USATODAY/2013/07/26/1374882980000-072613red-panda-birth-1307261959_16_9.jpg?width=3200&height=1807&fit=crop&format=pjpg&auto=webp - as ./images/red_panda/6e2c921697.jpg\n",
      "SUCCESS - saved https://encrypted-tbn0.gstatic.com/images?q=tbn:ANd9GcRobKuZ-xDwDZGcJ36lTGa6dLA9lG9yjPLAIQ&usqp=CAU - as ./images/red_panda/d6772e832e.jpg\n",
      "SUCCESS - saved https://encrypted-tbn0.gstatic.com/images?q=tbn:ANd9GcSDGSHDHb_pqYhXK8t3LpjGuK7JDOW3QtfQ5A&usqp=CAU - as ./images/red_panda/100b93c9e4.jpg\n",
      "SUCCESS - saved https://encrypted-tbn0.gstatic.com/images?q=tbn:ANd9GcTSzngyt1t73AsXhmttOyq2PkCd3ekh4Kw27A&usqp=CAU - as ./images/red_panda/60b224c3d7.jpg\n",
      "SUCCESS - saved https://encrypted-tbn0.gstatic.com/images?q=tbn:ANd9GcS0A-8zgS7vFFy6d3Ouur-3dKLxFixuNOeVzw&usqp=CAU - as ./images/red_panda/94c25b9cf1.jpg\n"
     ]
    },
    {
     "name": "stdout",
     "output_type": "stream",
     "text": [
      "SUCCESS - saved https://static.onecms.io/wp-content/uploads/sites/20/2020/07/23/red-panda.jpg - as ./images/red_panda/87f0df577e.jpg\n",
      "SUCCESS - saved https://media.istockphoto.com/photos/red-panda-in-park-of-chengdu-picture-id564602130?k=20&m=564602130&s=612x612&w=0&h=_6Iy86LXo2-uolRMhnyDCoaxNjRELzE3Y_DCwDqSV8E= - as ./images/red_panda/a39dba598c.jpg\n",
      "SUCCESS - saved https://files.worldwildlife.org/wwfcmsprod/images/HERO_Red_Panda_279141/hero_small/4ocbtgyvq7_XL_279141.jpg - as ./images/red_panda/0ca2103af9.jpg\n",
      "SUCCESS - saved https://encrypted-tbn0.gstatic.com/images?q=tbn:ANd9GcSYCWEAqZCPxGR1d4LLh7v-94npgHUfBVWfgA&usqp=CAU - as ./images/red_panda/91f0242458.jpg\n",
      "SUCCESS - saved https://nationaltoday.com/wp-content/uploads/2021/09/International-Red-Panda-Day.jpg - as ./images/red_panda/df221c93ff.jpg\n",
      "SUCCESS - saved https://images.saatchiart.com/saatchi/1623859/art/8493243/7557369-HQOQZTGN-6.jpg - as ./images/red_panda/6d9eff82bb.jpg\n",
      "SUCCESS - saved https://encrypted-tbn0.gstatic.com/images?q=tbn:ANd9GcTdJFvj69Ks4-pmIsLpVcmSe-5LUuncw6g36w&usqp=CAU - as ./images/red_panda/d6f53558e4.jpg\n",
      "SUCCESS - saved https://image.posterlounge.com/images/l/1895529.jpg - as ./images/red_panda/c826f22559.jpg\n",
      "SUCCESS - saved https://encrypted-tbn0.gstatic.com/images?q=tbn:ANd9GcTryUgpVXcNqK_9UOcnD5V095dSUsQmgK2P_A&usqp=CAU - as ./images/red_panda/54258a80fa.jpg\n",
      "SUCCESS - saved https://encrypted-tbn0.gstatic.com/images?q=tbn:ANd9GcT18bpRytPLHvCp6QFXo2xMhzKUTwjBRoceRQ&usqp=CAU - as ./images/red_panda/a963f6cf2f.jpg\n",
      "SUCCESS - saved https://st2.depositphotos.com/1424188/7670/i/600/depositphotos_76701935-stock-photo-red-panda-bear-sichuan-china.jpg - as ./images/red_panda/ac51aa218f.jpg\n",
      "SUCCESS - saved https://media.istockphoto.com/photos/sleeping-red-panda-funny-cute-animal-image-picture-id667782268?k=20&m=667782268&s=170667a&w=0&h=Pk-43M_g53WdgpYrwjqqpkEncP0Rbz0LZXti90S6jEI= - as ./images/red_panda/230f3e11f8.jpg\n",
      "SUCCESS - saved https://encrypted-tbn0.gstatic.com/images?q=tbn:ANd9GcSHtC6zzeOEsLob8fpJzmbjs8xhBwyW35dpoA&usqp=CAU - as ./images/red_panda/df8da13312.jpg\n",
      "SUCCESS - saved https://encrypted-tbn0.gstatic.com/images?q=tbn:ANd9GcRUPesCfVuFxDiThGFpGBY1BW0NX4XRYv0sWw&usqp=CAU - as ./images/red_panda/b48dc78054.jpg\n",
      "SUCCESS - saved https://encrypted-tbn0.gstatic.com/images?q=tbn:ANd9GcRA16NcPoC8U-y7IU0fD4d5gCyzt_wSsBSShQ&usqp=CAU - as ./images/red_panda/99e05d22df.jpg\n",
      "SUCCESS - saved https://encrypted-tbn0.gstatic.com/images?q=tbn:ANd9GcQ25LIhfCnIPAM4IweqZBw1do23DPv2BxBA0w&usqp=CAU - as ./images/red_panda/3696c21b0c.jpg\n",
      "SUCCESS - saved https://images3.alphacoders.com/599/thumb-1920-59997.jpg - as ./images/red_panda/5796289790.jpg\n",
      "SUCCESS - saved https://static.turbosquid.com/Preview/2020/05/14__07_46_58/Priw_1.pngA390BF34-1BAB-49ED-9E93-70A1FE0C57F2Large.jpg - as ./images/red_panda/f984803bc1.jpg\n",
      "SUCCESS - saved https://encrypted-tbn0.gstatic.com/images?q=tbn:ANd9GcQvo4aTtMMq_0Yh1dUmanaJw6U6gkxQ7ntSiA&usqp=CAU - as ./images/red_panda/3ea476fa78.jpg\n",
      "SUCCESS - saved https://www.mlive.com/resizer/WXw18sZBG8qtiqNGifhbD2ZRWbk=/arc-anglerfish-arc2-prod-advancelocal/public/GZYA6DITARED5D6AETKJBUX7ZQ.jpg - as ./images/red_panda/7b4571609a.jpg\n",
      "SUCCESS - saved https://www.mdzol.com/u/fotografias/m/2021/9/17/f608x342-1110344_1140067_15.jpg - as ./images/red_panda/8a9c0597d8.jpg\n",
      "SUCCESS - saved https://encrypted-tbn0.gstatic.com/images?q=tbn:ANd9GcQ6Gj0-FOLefsgfUsTZO973X9chRh-JUAIx8A&usqp=CAU - as ./images/red_panda/1666bc2e52.jpg\n",
      "SUCCESS - saved https://encrypted-tbn0.gstatic.com/images?q=tbn:ANd9GcTG79bx5296pMFQdS2zOl5IKBR0xwi1jKYdMg&usqp=CAU - as ./images/red_panda/d19e008e77.jpg\n",
      "SUCCESS - saved https://res.cloudinary.com/dk-find-out/image/upload/q_80,w_1920,f_auto/MA_00194806_hius0n.jpg - as ./images/red_panda/85c46472b1.jpg\n",
      "ERROR - Could not save https://slotcatalog.com/userfiles/image/games/Genesis/3993/Red-panda-paradise-1_s.png - cannot identify image file <_io.BytesIO object at 0x7f966bbf60e0>\n",
      "SUCCESS - saved https://encrypted-tbn0.gstatic.com/images?q=tbn:ANd9GcTsSPcDITVwoQiPs8SZZ6k8w7VjANLtI_B_og&usqp=CAU - as ./images/red_panda/70c2a976d6.jpg\n",
      "SUCCESS - saved https://encrypted-tbn0.gstatic.com/images?q=tbn:ANd9GcT9-peyx8jj_i2jgEx8kGB2C7DXxdPwMvd9FA&usqp=CAU - as ./images/red_panda/e9956c26d3.jpg\n",
      "SUCCESS - saved https://i.natgeofe.com/k/771ecd45-98e6-463e-9bc7-babd821853d3/red-panda-cub_2x3.jpg - as ./images/red_panda/3877f83db0.jpg\n",
      "SUCCESS - saved https://secure-ecsd.elsevier.com/covers/80/Tango2/large/9780128237533.jpg - as ./images/red_panda/b07bb6e631.jpg\n",
      "SUCCESS - saved https://storage.googleapis.com/afs-prod/media/94257eb74f3b49679c8a10c6c1f6bc78/2000.jpeg - as ./images/red_panda/8b9c532668.jpg\n",
      "SUCCESS - saved https://senecaparkzoo.org/wp-content/uploads/2018/05/Red-panda-2018-Wayne-Smith-28.jpg?x45072 - as ./images/red_panda/1440b414fb.jpg\n",
      "SUCCESS - saved https://encrypted-tbn0.gstatic.com/images?q=tbn:ANd9GcRkdqtLrIUFuxRqOe4hYXFCMkEp4YA2zEC7Wg&usqp=CAU - as ./images/red_panda/538e903227.jpg\n",
      "SUCCESS - saved https://encrypted-tbn0.gstatic.com/images?q=tbn:ANd9GcSrEl3y6-9-Ah8qcHcNZ_6dzStQLUMjM799nw&usqp=CAU - as ./images/red_panda/058e7ee5ec.jpg\n",
      "SUCCESS - saved https://1.bp.blogspot.com/-o_4dKpqjlB4/YEDKXxBiKsI/AAAAAAAATCI/VMKRjegpbgMY5VXcEFLgfBbacuVWqvobQCLcBGAsYHQ/s2048/RS35484_2018_10_19%2Bred%2Bpanda%2Bcubs-1.jpg - as ./images/red_panda/1f966ab4d0.jpg\n",
      "SUCCESS - saved https://encrypted-tbn0.gstatic.com/images?q=tbn:ANd9GcSMRhVwVE6hveIVKzYiVDNjIk_MvkM0QUwIYA&usqp=CAU - as ./images/red_panda/51deb15fb8.jpg\n",
      "SUCCESS - saved https://imgk.timesnownews.com/story/iStock-474795980_1.jpg?tr=w-1200,h-900 - as ./images/red_panda/e6a310a2f1.jpg\n",
      "SUCCESS - saved https://m.media-amazon.com/images/I/71KOhnZ1DVL._AC_SL1500_.jpg - as ./images/red_panda/6550f9fab8.jpg\n",
      "SUCCESS - saved https://i.natgeofe.com/k/63b1a8a7-0081-493e-8b53-81d01261ab5d/red-panda-full-body_16x9.jpg - as ./images/red_panda/0d37d3655d.jpg\n",
      "SUCCESS - saved https://www.selwo.es/sites/selwo.es/files/uploads/styles/adaptive/public/swa_panda_rojo_5.jpg?itok=5T-DRj4m - as ./images/red_panda/12ad242269.jpg\n",
      "SUCCESS - saved https://media.gettyimages.com/photos/tired-red-panda-picture-id173899753?s=170667a - as ./images/red_panda/fa193869fd.jpg\n",
      "SUCCESS - saved https://encrypted-tbn0.gstatic.com/images?q=tbn:ANd9GcT6uOjzL4OEebplRL-HH3nisl8erSW1k2U4-Q&usqp=CAU - as ./images/red_panda/d57add1023.jpg\n",
      "SUCCESS - saved https://media.istockphoto.com/vectors/set-of-cute-adorable-red-panda-in-different-poses-cartoon-design-vector-id1167254863?k=20&m=1167254863&s=612x612&w=0&h=u8XbxC2kWOSA6TYtViARscWUoEigrqfEPcu8FbDMiYc= - as ./images/red_panda/c0e360904c.jpg\n",
      "SUCCESS - saved https://encrypted-tbn0.gstatic.com/images?q=tbn:ANd9GcTQp9nM4AMq4908aRFutn1yLivUnInygRUgMA&usqp=CAU - as ./images/red_panda/3e1160f622.jpg\n",
      "SUCCESS - saved https://encrypted-tbn0.gstatic.com/images?q=tbn:ANd9GcRGkR7oSFljXW3_Bi3vSlXBO-TBOspixzp-cg&usqp=CAU - as ./images/red_panda/8a9a997737.jpg\n",
      "SUCCESS - saved https://encrypted-tbn0.gstatic.com/images?q=tbn:ANd9GcRP1DKaCaDjOGU6EU1N-XYOcauDv48wqdabQw&usqp=CAU - as ./images/red_panda/92d7212218.jpg\n",
      "SUCCESS - saved https://i.ytimg.com/vi/XdM6c4juY1g/maxresdefault.jpg - as ./images/red_panda/f0aaba23ae.jpg\n",
      "SUCCESS - saved https://images.squarespace-cdn.com/content/v1/54ef35d1e4b021bc7efe797f/1544265852211-WTB3B14IDJDDX2DCCMXL/red_panda.jpg?format=2500w - as ./images/red_panda/23c492f35c.jpg\n",
      "SUCCESS - saved https://encrypted-tbn0.gstatic.com/images?q=tbn:ANd9GcTPfd4VU8FhmdRhNUfltJwItFGhj9Z2ZOaFpQ&usqp=CAU - as ./images/red_panda/6d103843a5.jpg\n"
     ]
    }
   ],
   "source": [
    "search_and_download(search_term='red panda', driver_path=DRIVER_PATH,number_images = 100)"
   ]
  },
  {
   "cell_type": "code",
   "execution_count": 44,
   "id": "ff49a4aa",
   "metadata": {},
   "outputs": [
    {
     "data": {
      "text/plain": [
       "<module 'hashlib' from '/home/javier.luna/anaconda3/lib/python3.8/hashlib.py'>"
      ]
     },
     "execution_count": 44,
     "metadata": {},
     "output_type": "execute_result"
    }
   ],
   "source": [
    "hashlib"
   ]
  },
  {
   "cell_type": "code",
   "execution_count": null,
   "id": "5803ea58",
   "metadata": {},
   "outputs": [],
   "source": []
  }
 ],
 "metadata": {
  "kernelspec": {
   "display_name": "Python 3 (ipykernel)",
   "language": "python",
   "name": "python3"
  },
  "language_info": {
   "codemirror_mode": {
    "name": "ipython",
    "version": 3
   },
   "file_extension": ".py",
   "mimetype": "text/x-python",
   "name": "python",
   "nbconvert_exporter": "python",
   "pygments_lexer": "ipython3",
   "version": "3.8.8"
  }
 },
 "nbformat": 4,
 "nbformat_minor": 5
}
